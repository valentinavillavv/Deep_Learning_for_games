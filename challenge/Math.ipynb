{
  "cells": [
    {
      "cell_type": "markdown",
      "metadata": {
        "id": "oM0O1OXEiiHJ"
      },
      "source": [
        "[![Open In Colab](https://colab.research.google.com/assets/colab-badge.svg)](https://colab.research.google.com/github/real-itu/modern-ai-course/blob/master/lecture-04/lab.ipynb)"
      ]
    },
    {
      "cell_type": "markdown",
      "metadata": {
        "id": "Upskcb0-uJ4S"
      },
      "source": [
        "# Lab 2 - Math\n",
        "\n"
      ]
    },
    {
      "cell_type": "markdown",
      "metadata": {
        "id": "BjiWd9PfqVxp"
      },
      "source": [
        "### Stats\n",
        "\n",
        "You're given the following dataset:\n",
        "\n"
      ]
    },
    {
      "cell_type": "code",
      "execution_count": 1,
      "metadata": {
        "id": "jiDo5w7mqlWJ",
        "colab": {
          "base_uri": "https://localhost:8080/"
        },
        "outputId": "a08acc36-3efc-47a2-dace-8cb7cde82dc2"
      },
      "outputs": [
        {
          "output_type": "stream",
          "name": "stdout",
          "text": [
            "[0.8868279034128675, 1.9504304025306558, 0.46201173092655257, 0.13727289350107572, 1.0329650747173147, 0.00520129768651921, 0.032111381051647944, 0.6907259056240523, 1.713578821550704, 0.037592456206679545, 0.9865449735727571, 0.418585230265908, 0.11133432341026718, 2.7082355435792898, 0.3123577703699347, 0.26435707416151544, 5.779789763931721, 2.344213906200638, 0.6343578347545124, 4.014607380283022]\n"
          ]
        }
      ],
      "source": [
        "import random\n",
        "random.seed(0)\n",
        "x = [random.gauss(0, 1)**2 for _ in range(20)]\n",
        "print(x)"
      ]
    },
    {
      "cell_type": "markdown",
      "metadata": {
        "id": "J6IoKXpNqvIN"
      },
      "source": [
        "> Compute the min, max, mean, median, standard deviation and variance of x\n"
      ]
    },
    {
      "cell_type": "code",
      "execution_count": 2,
      "metadata": {
        "id": "zt-Snbw-sdQN",
        "colab": {
          "base_uri": "https://localhost:8080/"
        },
        "outputId": "4757637f-cf2a-4e18-d2f3-34972b0cf9fd"
      },
      "outputs": [
        {
          "output_type": "stream",
          "name": "stdout",
          "text": [
            "the minimum is: 0.00520129768651921\n",
            "the maximum is: 5.779789763931721\n",
            "the average is: 1.2261550833868817\n",
            "the median is: 0.6625418701892823\n",
            "the standard deviation is: 1.5099742213349252\n",
            "the variance is: 2.166021041641213\n"
          ]
        }
      ],
      "source": [
        "# Your code here\n",
        "#import numpy\n",
        "#import statistics\n",
        "\n",
        "#min=numpy.min(x)\n",
        "#max=numpy.max(x)\n",
        "\n",
        "min=x[0]\n",
        "max=x[0]\n",
        "sum=0\n",
        "for n in x:\n",
        "  sum+=n\n",
        "  if n > max:\n",
        "    max = n\n",
        "  if n< min:\n",
        "    min=n\n",
        "avg=sum/len(x)\n",
        "\n",
        "print(\"the minimum is: \"+ str(min))\n",
        "print(\"the maximum is: \"+ str(max))\n",
        "print(\"the average is: \"+ str(avg))\n",
        "\n",
        "\n",
        "#median=statistics.median(x)\n",
        "xs=sorted(x)\n",
        "if len(x)%2==0:\n",
        "  median=( xs[int(len(x) / 2 -1)]+xs[int(len(x)//2)])/2\n",
        "else:\n",
        "  median= xs[len(x)/2]\n",
        "\n",
        "print(\"the median is: \"+str(median))\n",
        "\n",
        "#std=statistics.stdev(x)\n",
        "mds=[(n-avg)**2 for n in x]\n",
        "tot=0\n",
        "for i in range(len(mds)):\n",
        "  tot+=mds[i]\n",
        "std=(tot/(len(x)-1))**0.5\n",
        "print(\"the standard deviation is: \"+ str(std))\n",
        "\n",
        "#var=statistics.variance(x)\n",
        "var=tot/len(x)\n",
        "print(\"the variance is: \"+ str(var))\n"
      ]
    },
    {
      "cell_type": "markdown",
      "metadata": {
        "id": "Kt5JVJAOrTYH"
      },
      "source": [
        "### Vectors\n",
        "\n",
        "You're given the two 3 dimensional vectors a and b below."
      ]
    },
    {
      "cell_type": "code",
      "execution_count": 3,
      "metadata": {
        "id": "V6YBm5kvqtkL"
      },
      "outputs": [],
      "source": [
        "a = [1, 3, 5]\n",
        "b = [2, 9, 13]"
      ]
    },
    {
      "cell_type": "markdown",
      "metadata": {
        "id": "mAtW_rHProLz"
      },
      "source": [
        "> Compute\n",
        "  1. $a + b$\n",
        "  2. $2a-3b$\n",
        "  3. $ab$ - the inner product\n",
        "\n"
      ]
    },
    {
      "cell_type": "code",
      "execution_count": 4,
      "metadata": {
        "id": "ARN8fYv4qnZ6",
        "colab": {
          "base_uri": "https://localhost:8080/"
        },
        "outputId": "8d60fe79-fcd6-4bc4-c3d7-f9a123380329"
      },
      "outputs": [
        {
          "output_type": "stream",
          "name": "stdout",
          "text": [
            "a+b= [3, 12, 18]\n",
            "2a-3b= [-4, -21, -29]\n",
            "ab= 94\n"
          ]
        }
      ],
      "source": [
        "# Your code here\n",
        "sum=[a[i]+b[i] for i in range(len(a))]\n",
        "print(\"a+b=\", sum)\n",
        "\n",
        "sum2=[2*a[i]-3*b[i] for i in range(len(a))]\n",
        "print(\"2a-3b=\", sum2)\n",
        "\n",
        "#innerProduct=a @ b works only if a and b are vectors\n",
        "if len(a)!=len(b):\n",
        "  raise SyntaxError(\"a and b needs to be the same size to do the inner product\")\n",
        "\n",
        "product= [a[i]*b[i] for i in range(len(a))]\n",
        "innerProduct=0\n",
        "for i in range(len(product)):\n",
        "  innerProduct+=product[i]\n",
        "print(\"ab=\", innerProduct)\n"
      ]
    },
    {
      "cell_type": "markdown",
      "metadata": {
        "id": "japWKOro_Phg"
      },
      "source": [
        "### Matrices"
      ]
    },
    {
      "cell_type": "markdown",
      "metadata": {
        "id": "DUfDdspu_Phi"
      },
      "source": [
        "Here are two matrices:"
      ]
    },
    {
      "cell_type": "code",
      "execution_count": 5,
      "metadata": {
        "colab": {
          "base_uri": "https://localhost:8080/"
        },
        "id": "apbsH0F3_Phi",
        "outputId": "853ec883-3524-48bb-8979-6e9b4ab2015d"
      },
      "outputs": [
        {
          "output_type": "execute_result",
          "data": {
            "text/plain": [
              "([[4, 1, 1, 5, 7],\n",
              "  [1, 5, 6, 5, 3],\n",
              "  [7, 7, 4, 0, 0],\n",
              "  [1, 6, 0, 7, 5],\n",
              "  [3, 5, 1, 3, 3]],\n",
              " [[3, 2, 7, 1, 1],\n",
              "  [5, 7, 1, 4, 4],\n",
              "  [1, 5, 3, 4, 7],\n",
              "  [1, 6, 5, 3, 4],\n",
              "  [2, 3, 2, 0, 4]])"
            ]
          },
          "metadata": {},
          "execution_count": 5
        }
      ],
      "source": [
        "A = [[random.randint(0, 7) for _ in range(5)] for _ in range(5)]\n",
        "B = [[random.randint(0, 7) for _ in range(5)] for _ in range(5)]\n",
        "\n",
        "A, B"
      ]
    },
    {
      "cell_type": "markdown",
      "metadata": {
        "id": "Z1dySeOY_Phj"
      },
      "source": [
        "Compute $AB$ and $BA$"
      ]
    },
    {
      "cell_type": "code",
      "execution_count": 6,
      "metadata": {
        "colab": {
          "base_uri": "https://localhost:8080/"
        },
        "id": "krazk1Cx_Phj",
        "outputId": "70d0348a-2d4c-440b-96e3-5434ded31fe1"
      },
      "outputs": [
        {
          "output_type": "stream",
          "name": "stdout",
          "text": [
            "AB= [[37, 71, 71, 27, 63], [45, 106, 61, 60, 95], [60, 83, 68, 51, 63], [50, 101, 58, 46, 73], [44, 73, 50, 36, 54]]\n",
            "BA= [[67, 73, 44, 35, 35], [50, 91, 55, 100, 88], [55, 106, 50, 79, 63], [60, 104, 61, 68, 52], [37, 51, 32, 37, 35]]\n"
          ]
        }
      ],
      "source": [
        "# your code\n",
        "#AB=numpy.dot(A,B)\n",
        "#BA=numpy.dot(B,A)\n",
        "\n",
        "if len(A[0]) != len(B):\n",
        "    raise ValueError(\"wrong matrix dimension\")\n",
        "\n",
        "AB=[[0 for j in range(len(B[0]))] for i in range(len(A))]\n",
        "for i in range(len(A)):\n",
        "  for j in range(len(B[0])):\n",
        "    for k in range(len(B)):\n",
        "      AB[i][j]+=A[i][k]*B[k][j]\n",
        "\n",
        "\n",
        "if len(B[0]) != len(A):\n",
        "    raise ValueError(\"wrong matrix dimension\")\n",
        "\n",
        "BA=[[0 for j in range(len(A[0]))] for i in range(len(B))]\n",
        "for i in range(len(B)):\n",
        "  for j in range(len(A[0])):\n",
        "    for k in range(len(A)):\n",
        "      BA[i][j]+=B[i][k]*A[k][j]\n",
        "\n",
        "print(\"AB=\", AB)\n",
        "print(\"BA=\",BA)\n"
      ]
    },
    {
      "cell_type": "markdown",
      "metadata": {
        "id": "CAyopF6Xv4x9"
      },
      "source": [
        "### Gradients"
      ]
    },
    {
      "cell_type": "markdown",
      "metadata": {
        "id": "YCyWll0DywEL"
      },
      "source": [
        "Given the function $f(x,y) = 3x^2 + 6y$\n",
        "\n",
        "> Compute the partial gradients $\\frac{df}{dx}$ and $\\frac{df}{dy}$"
      ]
    },
    {
      "cell_type": "markdown",
      "metadata": {
        "id": "u7anqhlezDuG"
      },
      "source": [
        "\n",
        "\n",
        "Your answer here:\n",
        "\n",
        "df/dx=6x\n",
        "\n",
        "df/dy=6"
      ]
    },
    {
      "cell_type": "markdown",
      "metadata": {
        "id": "RMOsW64X3P52"
      },
      "source": [
        "The function above corresponds to the following computational graph"
      ]
    },
    {
      "cell_type": "markdown",
      "metadata": {
        "id": "zu7_jb9f3LCR"
      },
      "source": [
        "![sol (1).png](data:image/png;base64,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)"
      ]
    },
    {
      "cell_type": "markdown",
      "metadata": {
        "id": "zhJdF_V24oGJ"
      },
      "source": [
        "> Denote each arrow with the corresponding partial gradient, e.g. $\\frac{df}{dc} = 1$ between $f$ and $c$, and use the generalized chain rule on graphs to compute the gradients $\\frac{df}{dc}$, $\\frac{df}{db}$, $\\frac{df}{da}$, $\\frac{df}{dx}$, $\\frac{df}{dy}$."
      ]
    },
    {
      "cell_type": "markdown",
      "metadata": {
        "id": "ui3w2yot5cWi"
      },
      "source": [
        "\n",
        "\n",
        "Your answer here\n",
        "\n",
        "df/dc=1\n",
        "\n",
        "df/db=1\n",
        "\n",
        "df/da=3\n",
        "\n",
        "df/dx=6x\n",
        "\n",
        "df/dy=6"
      ]
    },
    {
      "cell_type": "markdown",
      "metadata": {
        "id": "vbGgBRfOBagB"
      },
      "source": [
        "### Autodiff\n",
        "\n",
        "This exercise is quite hard. It's OK if you don't finish it, but you should try your best!"
      ]
    },
    {
      "cell_type": "code",
      "execution_count": 7,
      "metadata": {
        "id": "c1JF2t3590wD"
      },
      "outputs": [],
      "source": [
        "def parents_grads(node):\n",
        "    \"\"\"\n",
        "    returns parents of node and the gradients of node w.r.t each parent\n",
        "    e.g. in the example graph above parents_grads(f) would return: [(b, df/db), (c, df/dc)]\n",
        "    \"\"\""
      ]
    },
    {
      "cell_type": "markdown",
      "metadata": {
        "id": "cOUwdnI09REp"
      },
      "source": [
        "> Complete the `backprop` method below to create a recursive algorithm such that calling `backward(node)` computes the gradient of `node` w.r.t. every (upstream - to the left) node in the computational graph. Every node has a `node.grad` attribute that is initialized to `0.0`, it's numerical gradient. The algorithm should modify this property directly, it should not return anything. Assume the gradients from `parents_grads` can be treated like real numbers, so you can e.g. multiply and add them."
      ]
    },
    {
      "cell_type": "code",
      "execution_count": 8,
      "metadata": {
        "id": "9LNpZhh5-8pg"
      },
      "outputs": [],
      "source": [
        "def backprop(node, df_dnode):\n",
        "    node.grad += df_dnode\n",
        "    # Your code here\n",
        "    for (p,df) in parents_grads(node):\n",
        "      newgrad=node.grad*df\n",
        "      backprop(p, newgrad)\n",
        "\n",
        "\n",
        "def backward(node):\n",
        "    \"\"\"\n",
        "    Computes the gradient of every (upstream) node in the computational graph w.r.t. node.\n",
        "    \"\"\"\n",
        "    backprop(node, 1.0) # The gradient of a node w.r.t. itself is 1 by definition.\n"
      ]
    },
    {
      "cell_type": "markdown",
      "metadata": {
        "id": "0Al5eBOxRhO1"
      },
      "source": [
        "Ok, now let's try to actually make it work! We'll define a class `Node` which contains the node value, gradient and parents and their gradients"
      ]
    },
    {
      "cell_type": "code",
      "execution_count": 9,
      "metadata": {
        "id": "R8jPS4jTIa7J"
      },
      "outputs": [],
      "source": [
        "from typing import Sequence, Tuple\n",
        "\n",
        "class Node:\n",
        "    def __init__(self, value: float, parents_grads: Sequence[Tuple['Node', float]]):\n",
        "        self.value = value\n",
        "        self.grad = 0.0\n",
        "        self.parents_grads = parents_grads\n",
        "\n",
        "    def __repr__(self):\n",
        "        return \"Node(value=%.4f, grad=%.4f)\"%(self.value, self.grad)"
      ]
    },
    {
      "cell_type": "markdown",
      "metadata": {
        "id": "Xv3zW3zFSUOg"
      },
      "source": [
        "So far no magic. We still havn't defined how we get the `parents_grads`, but we'll get there. Now move the `backprop` and `grad` function into the class, and modify it so it works with the class."
      ]
    },
    {
      "cell_type": "code",
      "execution_count": 10,
      "metadata": {
        "id": "uTfSLJj9Toji"
      },
      "outputs": [],
      "source": [
        "# Your code here\n",
        "class Node:\n",
        "    def __init__(self, value: float, parents_grads: Sequence[Tuple['Node', float]]):\n",
        "        self.value = value\n",
        "        self.grad = 0.0\n",
        "        self.parents_grads = parents_grads\n",
        "\n",
        "    def __repr__(self):\n",
        "        return \"Node(value=%.4f, grad=%.4f)\"%(self.value, self.grad)\n",
        "\n",
        "    def backprop(self, d):\n",
        "        self.grad += d\n",
        "        for [p,df] in self.parents_grads:\n",
        "          newgrad=self.grad*df\n",
        "          p.backprop(newgrad)\n",
        "\n",
        "    def backward(self):\n",
        "        self.backprop(1.0)\n"
      ]
    },
    {
      "cell_type": "markdown",
      "metadata": {
        "id": "q0pVlUALSyCt"
      },
      "source": [
        "Now let's create a simple graph: $y = x^2$, and compute it for $x=2$. We'll set the parent_grads directly based on our knowledge that $\\frac{dx^2}{dx}=2x$"
      ]
    },
    {
      "cell_type": "code",
      "execution_count": 11,
      "metadata": {
        "id": "CHdzMEqGSF6M"
      },
      "outputs": [],
      "source": [
        "x = Node(2.0, [])\n",
        "y = Node(x.value**2, parents_grads=[(x, 2*x.value)])"
      ]
    },
    {
      "cell_type": "markdown",
      "metadata": {
        "id": "OR1dp5GSUn1D"
      },
      "source": [
        "And print the two nodes"
      ]
    },
    {
      "cell_type": "code",
      "execution_count": 12,
      "metadata": {
        "id": "1PswecDqTZTt",
        "colab": {
          "base_uri": "https://localhost:8080/"
        },
        "outputId": "d424d6c9-65aa-47e5-ef6d-c28597f2e8ab"
      },
      "outputs": [
        {
          "output_type": "stream",
          "name": "stdout",
          "text": [
            "x Node(value=2.0000, grad=0.0000) y Node(value=4.0000, grad=0.0000)\n"
          ]
        }
      ],
      "source": [
        "print(\"x\", x, \"y\", y)"
      ]
    },
    {
      "cell_type": "markdown",
      "metadata": {
        "id": "gvoKM8EgUuPz"
      },
      "source": [
        "> Verify that the `y.backward()` call below computes the correct gradients"
      ]
    },
    {
      "cell_type": "code",
      "execution_count": 13,
      "metadata": {
        "id": "Nh7rCKywTVa-",
        "colab": {
          "base_uri": "https://localhost:8080/"
        },
        "outputId": "b6bfd8c7-036f-43f8-af3e-0e048cb1622a"
      },
      "outputs": [
        {
          "output_type": "stream",
          "name": "stdout",
          "text": [
            "x Node(value=2.0000, grad=4.0000) y Node(value=4.0000, grad=1.0000)\n"
          ]
        }
      ],
      "source": [
        "y.backward()\n",
        "print(\"x\", x, \"y\", y)"
      ]
    },
    {
      "cell_type": "markdown",
      "metadata": {
        "id": "DKIY22BZVwwo"
      },
      "source": [
        "$\\frac{dy}{dx}$ should be 4 and $\\frac{dy}{dy}$ should be 1"
      ]
    },
    {
      "cell_type": "markdown",
      "metadata": {
        "id": "OhMJXztkV-qJ"
      },
      "source": [
        "Ok, so it seems to work, but it's not very easy to use, since you have to\n",
        "\n",
        "1.   List item\n",
        "2.   List item\n",
        "\n",
        "define all the `parents_grads` whenever you're creating new nodes. **Here's the trick.** We can make a function `square(node:Node)->Node` which can square any Node. See below"
      ]
    },
    {
      "cell_type": "code",
      "execution_count": 14,
      "metadata": {
        "id": "m9ZtY1WWVgPJ"
      },
      "outputs": [],
      "source": [
        "def square(node: Node) -> Node:\n",
        "    return Node(node.value**2, [(node, 2*node.value)])"
      ]
    },
    {
      "cell_type": "markdown",
      "metadata": {
        "id": "YuONWRkaWy3R"
      },
      "source": [
        "Let's verify that it works"
      ]
    },
    {
      "cell_type": "code",
      "execution_count": 15,
      "metadata": {
        "id": "Y1aSL8CVWpxp",
        "colab": {
          "base_uri": "https://localhost:8080/"
        },
        "outputId": "8592a16a-f19c-4920-ed04-53b09f09e57b"
      },
      "outputs": [
        {
          "output_type": "stream",
          "name": "stdout",
          "text": [
            "x Node(value=3.0000, grad=0.0000) y Node(value=9.0000, grad=0.0000)\n",
            "x Node(value=3.0000, grad=6.0000) y Node(value=9.0000, grad=1.0000)\n"
          ]
        }
      ],
      "source": [
        "x = Node(3.0, [])\n",
        "y = square(x)\n",
        "print(\"x\", x, \"y\", y)\n",
        "y.backward()\n",
        "print(\"x\", x, \"y\", y)"
      ]
    },
    {
      "cell_type": "markdown",
      "metadata": {
        "id": "523vqhWoXAvw"
      },
      "source": [
        "Now we're getting somewhere. These calls to square can of course be chained"
      ]
    },
    {
      "cell_type": "code",
      "execution_count": 16,
      "metadata": {
        "id": "USrQFOuQW4nl",
        "colab": {
          "base_uri": "https://localhost:8080/"
        },
        "outputId": "20bf8115-0df2-407b-e852-9efe568bb19e"
      },
      "outputs": [
        {
          "output_type": "stream",
          "name": "stdout",
          "text": [
            "x Node(value=3.0000, grad=0.0000) y Node(value=9.0000, grad=0.0000) z Node(value=81.0000, grad=0.0000)\n",
            "x Node(value=3.0000, grad=108.0000) y Node(value=9.0000, grad=18.0000) z Node(value=81.0000, grad=1.0000)\n"
          ]
        }
      ],
      "source": [
        "x = Node(3.0, [])\n",
        "y = square(x)\n",
        "z = square(y)\n",
        "print(\"x\", x, \"y\", y, \"z\", z)\n",
        "z.backward()\n",
        "print(\"x\", x, \"y\", y,\"z\", z)"
      ]
    },
    {
      "cell_type": "markdown",
      "metadata": {
        "id": "w17ZwBwRXT2B"
      },
      "source": [
        "> Compute the $\\frac{dz}{dx}$ gradient by hand and verify that it's correct"
      ]
    },
    {
      "cell_type": "markdown",
      "metadata": {
        "id": "WFRRmbAfXXGf"
      },
      "source": [
        "Your answer here\n",
        "\n",
        "dz/dx=4*x^3=108"
      ]
    },
    {
      "cell_type": "markdown",
      "metadata": {
        "id": "suOlcuebYAfC"
      },
      "source": [
        "Similarly we can create functions like this for all the common operators, plus, minus, multiplication, etc. With enough base operators like this we can create any computation we want, and compute the gradients automatically with `.backward()`\n",
        "\n",
        "> Finish the plus function below and verify that it works"
      ]
    },
    {
      "cell_type": "code",
      "execution_count": 17,
      "metadata": {
        "id": "E3ld1d_wXLPL"
      },
      "outputs": [],
      "source": [
        "def plus(a: Node, b:Node)->Node:\n",
        "  # Your code here\n",
        "  s =[(a,1),(b,1)]\n",
        "  return Node(a.value+b.value, s)"
      ]
    },
    {
      "cell_type": "code",
      "execution_count": 18,
      "metadata": {
        "id": "yqfrbSmwYnSw",
        "colab": {
          "base_uri": "https://localhost:8080/"
        },
        "outputId": "7e8968ad-e8be-4efd-8c67-13ee874ce821"
      },
      "outputs": [
        {
          "output_type": "stream",
          "name": "stdout",
          "text": [
            "x Node(value=4.0000, grad=0.0000) y Node(value=5.0000, grad=0.0000) z Node(value=9.0000, grad=0.0000)\n",
            "x Node(value=4.0000, grad=1.0000) y Node(value=5.0000, grad=1.0000) z Node(value=9.0000, grad=1.0000)\n"
          ]
        }
      ],
      "source": [
        "x = Node(4.0, [])\n",
        "y = Node(5.0, [])\n",
        "z = plus(x, y)\n",
        "print(\"x\", x, \"y\", y, \"z\", z)\n",
        "z.backward()\n",
        "print(\"x\", x, \"y\", y,\"z\", z)"
      ]
    },
    {
      "cell_type": "markdown",
      "metadata": {
        "id": "g6fMWVpCY4Wu"
      },
      "source": [
        "> Finish the multiply function below and verify that it works:"
      ]
    },
    {
      "cell_type": "code",
      "execution_count": 19,
      "metadata": {
        "id": "g9ws73bEYxtk"
      },
      "outputs": [],
      "source": [
        "def multiply(a: Node, b:Node)->Node:\n",
        "    \"\"\"\n",
        "    Computes a*b\n",
        "    \"\"\"\n",
        "    # Your code hre\n",
        "    s =[(a,b.value),(b,a.value)]\n",
        "    return Node(a.value*b.value, s)"
      ]
    },
    {
      "cell_type": "code",
      "execution_count": 20,
      "metadata": {
        "id": "cpy8HpetZE0G",
        "colab": {
          "base_uri": "https://localhost:8080/"
        },
        "outputId": "6c2e27b3-ab0d-47c6-fac7-168f91ef540f"
      },
      "outputs": [
        {
          "output_type": "stream",
          "name": "stdout",
          "text": [
            "x Node(value=4.0000, grad=0.0000) y Node(value=5.0000, grad=0.0000) z Node(value=20.0000, grad=0.0000)\n",
            "x Node(value=4.0000, grad=5.0000) y Node(value=5.0000, grad=4.0000) z Node(value=20.0000, grad=1.0000)\n"
          ]
        }
      ],
      "source": [
        "x = Node(4.0, [])\n",
        "y = Node(5.0, [])\n",
        "z = multiply(x, y)\n",
        "print(\"x\", x, \"y\", y, \"z\", z)\n",
        "z.backward()\n",
        "print(\"x\", x, \"y\", y,\"z\", z)"
      ]
    },
    {
      "cell_type": "markdown",
      "metadata": {
        "id": "BSFPOiTOZNQt"
      },
      "source": [
        "We'll stop here, but with just a few more functions we could compute a lot of common computations, and get their gradients automatically!\n",
        "\n",
        "This is super nice, but it's kind of annoying having to write `plus(a,b)`. Wouldn't it be nice if we could just write `a+b`? With python operator overloading we can! If we define the `__add__` method on `Node`, this will be executed instead of the regular plus operation when we add something to a `Node`.\n",
        "\n",
        "> Modify the `Node` class so that it overload the plus, `__add__(self, other)`, and multiplication, `__mul__(self, other)`, operators and run the code below to verify that it works."
      ]
    },
    {
      "cell_type": "code",
      "execution_count": 21,
      "metadata": {
        "id": "Fwu8tEM1au-M"
      },
      "outputs": [],
      "source": [
        "# Your code here\n",
        "class Node:\n",
        "    def __init__(self, value: float, parents_grads: Sequence[Tuple['Node', float]]):\n",
        "        self.value = value\n",
        "        self.grad = 0.0\n",
        "        self.parents_grads = parents_grads\n",
        "\n",
        "    def __repr__(self):\n",
        "        return \"Node(value=%.4f, grad=%.4f)\"%(self.value, self.grad)\n",
        "\n",
        "    def backprop(self, d):\n",
        "        self.grad += d\n",
        "        for [p,df] in self.parents_grads:\n",
        "          newgrad=self.grad*df\n",
        "          p.backprop(newgrad)\n",
        "\n",
        "    def backward(self):\n",
        "        self.backprop(1.0)\n",
        "\n",
        "    def __add__(self, other)->Node:\n",
        "        s =[(self,1),(other,1)]\n",
        "        return Node(self.value+other.value, s)\n",
        "\n",
        "    def __mul__(self, other)->Node:\n",
        "        s =[(self,other.value),(other,self.value)]\n",
        "        return Node(self.value*other.value, s)\n"
      ]
    },
    {
      "cell_type": "code",
      "execution_count": 22,
      "metadata": {
        "id": "fnBkNjXbZGms",
        "colab": {
          "base_uri": "https://localhost:8080/"
        },
        "outputId": "d2308554-83a2-481b-e75d-c6ec38530469"
      },
      "outputs": [
        {
          "output_type": "stream",
          "name": "stdout",
          "text": [
            "a Node(value=2.0000, grad=0.0000) b Node(value=3.0000, grad=0.0000) c Node(value=4.0000, grad=0.0000) d Node(value=10.0000, grad=0.0000)\n",
            "a Node(value=2.0000, grad=3.0000) b Node(value=3.0000, grad=2.0000) c Node(value=4.0000, grad=1.0000) d Node(value=10.0000, grad=1.0000)\n"
          ]
        }
      ],
      "source": [
        "a = Node(2.0, [])\n",
        "b = Node(3.0, [])\n",
        "c = Node(4.0, [])\n",
        "d = a*b + c # Behold the magic of operator overloading!\n",
        "print(\"a\", a, \"b\", b, \"c\", c, \"d\", d)\n",
        "d.backward()\n",
        "print(\"a\", a, \"b\", b, \"c\", c, \"d\", d)"
      ]
    },
    {
      "cell_type": "markdown",
      "metadata": {
        "id": "brR8BwY9efFk"
      },
      "source": [
        "Congratulations, you've made your own tiny library for autodiff! That's really an awesome achievement!\n",
        "\n",
        "Now, I wouldn't recommend using your library for anything other than a tool to understand the inner workings of autodiff. Extremely good libraries already exist, which has a lot of functions defined and are super-duper optimized and can even run on specialized hardware like GPUs. Some of those libraries are [PyTorch](https://pytorch.org/), [Tensorflow](https://www.tensorflow.org/) and [Jax](https://github.com/google/jax)."
      ]
    }
  ],
  "metadata": {
    "colab": {
      "collapsed_sections": [
        "BjiWd9PfqVxp",
        "Kt5JVJAOrTYH",
        "japWKOro_Phg"
      ],
      "provenance": []
    },
    "kernelspec": {
      "display_name": "dlgs",
      "language": "python",
      "name": "dlgs"
    },
    "language_info": {
      "codemirror_mode": {
        "name": "ipython",
        "version": 3
      },
      "file_extension": ".py",
      "mimetype": "text/x-python",
      "name": "python",
      "nbconvert_exporter": "python",
      "pygments_lexer": "ipython3",
      "version": "3.7.13"
    }
  },
  "nbformat": 4,
  "nbformat_minor": 0
}